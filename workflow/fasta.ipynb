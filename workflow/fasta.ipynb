{
 "cells": [
  {
   "cell_type": "markdown",
   "metadata": {},
   "source": [
    "# Module to work with fasta files\n",
    "\n",
    "## Working with a fasta file containing multiple sequences"
   ]
  },
  {
   "cell_type": "code",
   "execution_count": 1,
   "metadata": {},
   "outputs": [],
   "source": [
    "import sys, os\n",
    "\n",
    "def fasta_to_seq(in_file):\n",
    "    \"\"\" Parses a fasta file with multiple sequences and creates a dictionary out of the records.\n",
    "    \n",
    "    Returns a dictionary of sequences: The dictionary key\n",
    "    will be the folder name and the values\n",
    "    are tuples containing the full header and the sequence\"\"\"\n",
    "    if not (in_file):\n",
    "        return {}\n",
    "    with open(in_file) as f:\n",
    "        # reads the file in a list\n",
    "        lines = f.read().splitlines()\n",
    "    seq = ''     # stores the sequence without linebreaks\n",
    "    seq_dict={}  # stores the dictionary to be returned\n",
    "    for i in lines:\n",
    "        if i and i[0] == '>':\n",
    "            # Header found\n",
    "            if seq:   # if seq is empty, this might be the first line of the file\n",
    "                # get the first section of the header, hopefully the ID\n",
    "                outfile=head[1:].split('|')[1]+'('+ str(len(seq))+')'\n",
    "                cnt=1\n",
    "                # check if there are sequences with same ID/length\n",
    "                while outfile in seq_dict:\n",
    "                    outfile=i[1:].split('|')[1]+'('+ str(len(seq))+')-'+str(cnt)\n",
    "                    cnt+=1\n",
    "                seq_dict[outfile]=(head, seq)\n",
    "                seq=''\n",
    "            head=i\n",
    "        else: # not a header - append to sequnce\n",
    "            seq+=i\n",
    "    if seq: \n",
    "        # after finishing reading the file, check if there is a sequence in the \n",
    "        # variable and add it to the dictionary accordingly.\n",
    "        outfile=head[1:].split('|')[1]+'('+ str(len(seq))+')'\n",
    "        cnt=1\n",
    "        while outfile in seq_dict:\n",
    "            outfile=i[1:].split('|')[1]+'('+ str(len(seq))+')-'+str(cnt)\n",
    "            cnt+=1\n",
    "        seq_dict[outfile]=(head, seq)\n",
    "    return seq_dict\n",
    "\n",
    "def organize_sequences(seq_dict):\n",
    "    \"\"\"Creates separated fasta files organized in folders from a single fasta file with multiple sequences.\n",
    "    \n",
    "    Keyword arguments:\n",
    "    in_file -- Original fasta file.\"\"\"\n",
    "    for k, (h, s) in seq_dict.items():\n",
    "        os.makedirs(k, exist_ok=True)\n",
    "        with open(k+'/'+k+'.fasta', 'w') as f:\n",
    "            f.write(h+'\\n')\n",
    "            lines=[s[x:x+60] for x in range(0, len(s), 60)]\n",
    "            f.write('\\n'.join(lines))"
   ]
  },
  {
   "cell_type": "code",
   "execution_count": 16,
   "metadata": {},
   "outputs": [],
   "source": [
    "\n",
    "def fasta_to_seq2(in_file, job=\"J0\"):\n",
    "    if not os.path.isfile(in_file):\n",
    "        return {}\n",
    "    with open(in_file) as f:\n",
    "        # reads the file in a list\n",
    "        lines = f.read().splitlines()\n",
    "    seq = ''     # stores the sequence without linebreaks\n",
    "    seq_dict={}  # stores the dictionary to be returned\n",
    "    result = []\n",
    "    seq_id = 1\n",
    "    for i in lines:\n",
    "        if i and i[0] == '>':\n",
    "            # Header found\n",
    "            if seq:   # if seq is empty, this might be the first line of the file\n",
    "                # get the first section of the header, hopefully the ID\n",
    "                result+= [{\"name\": head[1:], \n",
    "                           \"seq\":seq, \n",
    "                           \"folder\": \"%s/FF%05d/\"% (job, seq_id),\n",
    "                           \"file\": \"%s/FF%05d/%d.fasta\"%(job, seq_id,seq_id),\n",
    "                           \"submited_as\": \"Fasta file\"}]\n",
    "                seq_id+=1\n",
    "                seq=''\n",
    "            head=i\n",
    "        else: # not a header - append to sequnce\n",
    "            seq+=i\n",
    "    if seq: \n",
    "        # after finishing reading the file, check if there is a sequence in the \n",
    "        # variable and add it to the dictionary accordingly.\n",
    "        result+= [{\"name\": head[1:], \n",
    "                   \"seq\":seq, \n",
    "                   \"folder\": \"%s/FF%05d/\"% (job, seq_id),\n",
    "                   \"file\": \"%d.fasta\"%(seq_id),\n",
    "                   \"submited_as\":\"Fasta file\"}]\n",
    "    return result\n",
    "\n",
    "\n",
    "\n",
    "def organize_sequences2(seq_list):\n",
    "    \"\"\"Creates separated fasta files organized in folders from a single fasta file with multiple sequences.\n",
    "    \n",
    "    Keyword arguments:\n",
    "    in_file -- Original fasta file.\"\"\"\n",
    "    for k in seq_list:\n",
    "        os.makedirs(k[\"folder\"], exist_ok=True)\n",
    "        with open(k[\"file\"], 'w') as f:\n",
    "            f.write(\">%s\\n\"%k[\"name\"])\n",
    "            s=k[\"seq\"]\n",
    "            lines=[s[x:x+60] for x in range(0, len(s), 60)]\n",
    "            f.write('\\n'.join(lines))\n",
    "\n",
    "a = fasta_to_seq2(\"/home/imhof_team/Public/mauricio/workflow/test.fasta\")\n",
    "organize_sequences2(a)"
   ]
  },
  {
   "cell_type": "code",
   "execution_count": 17,
   "metadata": {},
   "outputs": [
    {
     "name": "stdout",
     "output_type": "stream",
     "text": [
      "271(271)\n"
     ]
    },
    {
     "ename": "NameError",
     "evalue": "name 'yasara_homology' is not defined",
     "output_type": "error",
     "traceback": [
      "\u001b[0;31m---------------------------------------------------------------------------\u001b[0m",
      "\u001b[0;31mNameError\u001b[0m                                 Traceback (most recent call last)",
      "\u001b[0;32m<ipython-input-17-a846ce09fdfc>\u001b[0m in \u001b[0;36m<module>\u001b[0;34m()\u001b[0m\n\u001b[1;32m      4\u001b[0m     \u001b[0;32mfor\u001b[0m \u001b[0mfolder\u001b[0m \u001b[0;32min\u001b[0m \u001b[0mseq_dict\u001b[0m\u001b[0;34m.\u001b[0m\u001b[0mkeys\u001b[0m\u001b[0;34m(\u001b[0m\u001b[0;34m)\u001b[0m\u001b[0;34m:\u001b[0m\u001b[0;34m\u001b[0m\u001b[0m\n\u001b[1;32m      5\u001b[0m         \u001b[0mprint\u001b[0m\u001b[0;34m(\u001b[0m\u001b[0mfolder\u001b[0m\u001b[0;34m)\u001b[0m\u001b[0;34m\u001b[0m\u001b[0m\n\u001b[0;32m----> 6\u001b[0;31m         \u001b[0myasara_homology\u001b[0m\u001b[0;34m(\u001b[0m\u001b[0mfolder\u001b[0m\u001b[0;34m+\u001b[0m\u001b[0;34m'/'\u001b[0m\u001b[0;34m+\u001b[0m\u001b[0mfolder\u001b[0m\u001b[0;34m+\u001b[0m\u001b[0;34m'.fasta'\u001b[0m\u001b[0;34m)\u001b[0m\u001b[0;34m\u001b[0m\u001b[0m\n\u001b[0m",
      "\u001b[0;31mNameError\u001b[0m: name 'yasara_homology' is not defined"
     ]
    }
   ],
   "source": [
    "if (__name__ == \"__main__\"):\n",
    "    seq_dict = fasta_to_seq(\"IL-1_formatted.fasta\")\n",
    "    organize_sequences(seq_dict)\n",
    "    for folder in seq_dict.keys():\n",
    "        print(folder)\n",
    "        yasara_homology(folder+'/'+folder+'.fasta')"
   ]
  },
  {
   "cell_type": "code",
   "execution_count": null,
   "metadata": {},
   "outputs": [],
   "source": []
  }
 ],
 "metadata": {
  "kernelspec": {
   "display_name": "Python 3",
   "language": "python",
   "name": "python3"
  },
  "language_info": {
   "codemirror_mode": {
    "name": "ipython",
    "version": 3
   },
   "file_extension": ".py",
   "mimetype": "text/x-python",
   "name": "python",
   "nbconvert_exporter": "python",
   "pygments_lexer": "ipython3",
   "version": "3.6.4"
  }
 },
 "nbformat": 4,
 "nbformat_minor": 2
}
