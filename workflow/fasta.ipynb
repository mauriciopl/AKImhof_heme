{
 "cells": [
  {
   "cell_type": "markdown",
   "metadata": {},
   "source": [
    "# Module to work with fasta files\n",
    "\n",
    "## Working with a fasta file containing multiple sequences"
   ]
  },
  {
   "cell_type": "code",
   "execution_count": 18,
   "metadata": {},
   "outputs": [],
   "source": [
    "import sys, os\n",
    "\n",
    "def break_fasta_sequence(seq):\n",
    "    assert type(seq)==str\n",
    "    return [seq[x:x+70] for x in range(0, len(seq), 70)]  \n",
    "\n",
    "def fasta_to_seq2(in_file, jobfolder=\"J0\"):\n",
    "    fullpath = os.path.join(jobfolder, in_file)\n",
    "    if not os.path.isfile(fullpath):\n",
    "        print(\"file not found.\")\n",
    "        return []\n",
    "    with open(fullpath) as f:\n",
    "        # reads the file in a list\n",
    "        lines = f.read().splitlines()\n",
    "    seq = ''     # stores the sequence without linebreaks\n",
    "    seq_dict={}  # stores the dictionary to be returned\n",
    "    result = []\n",
    "    head= \"\"\n",
    "    seq_id = 1\n",
    "    for i in lines:\n",
    "        if i and i[0] == '>':\n",
    "            # Header found\n",
    "            if seq:   # if seq is empty, this might be the first line of the file\n",
    "                # get the first section of the header, hopefully the ID\n",
    "                result+= [{\"name\": head[1:], \n",
    "                           \"seq\":seq, \n",
    "                           \"folder\": os.path.join(jobfolder, \"FF%05d\"%seq_id),\n",
    "                           \"file\": \"%d.fasta\"%(seq_id),\n",
    "                           \"submited_as\": \"Fasta file\"}]\n",
    "                seq_id+=1\n",
    "                seq=''\n",
    "            head=i\n",
    "        else: # not a header - append to sequnce\n",
    "            seq+=i\n",
    "    if seq and head: \n",
    "        # after finishing reading the file, check if there is a sequence in the \n",
    "        # variable and add it to the dictionary accordingly.\n",
    "        result+= [{\"name\": head[1:], \n",
    "                   \"seq\":seq, \n",
    "                   \"folder\": os.path.join(jobfolder, \"FF%05d\"%seq_id),\n",
    "                   \"file\": \"%d.fasta\"%(seq_id),\n",
    "                   \"submited_as\": \"Fasta file\"}]\n",
    "    return result\n",
    "\n",
    "\n",
    "\n",
    "def organize_sequences2(seq_list):\n",
    "    \"\"\"Creates separated fasta files organized in folders from a single fasta file with multiple sequences.\n",
    "    \n",
    "    Keyword arguments:\n",
    "    in_file -- Original fasta file.\"\"\"\n",
    "    for k in seq_list:\n",
    "        os.makedirs(k[\"folder\"], exist_ok=True)\n",
    "        file = os.path.join(k[\"folder\"], k[\"file\"])\n",
    "        with open(file, 'w') as f:\n",
    "            f.write(\">%s\\n\"%k[\"name\"])\n",
    "            lines=break_fasta_sequence(k[\"seq\"])\n",
    "            f.write('\\n'.join(lines))\n",
    "            f.write('\\n')\n",
    "            \n"
   ]
  },
  {
   "cell_type": "code",
   "execution_count": 23,
   "metadata": {},
   "outputs": [
    {
     "name": "stdout",
     "output_type": "stream",
     "text": [
      "Unit testing\n",
      "/home/mau/work/mock1.fasta\n"
     ]
    }
   ],
   "source": [
    "if (__name__ == \"__main__\"):\n",
    "    print(\"Unit testing\")\n",
    "    a = fasta_to_seq2(\"mock1.fasta\", jobfolder=\"/home/mau/work\")\n",
    "    organize_sequences2(a)\n"
   ]
  },
  {
   "cell_type": "code",
   "execution_count": 7,
   "metadata": {},
   "outputs": [],
   "source": [
    "'''def fasta_to_seq(in_file):\n",
    "    \"\"\" Parses a fasta file with multiple sequences and creates a dictionary out of the records.\n",
    "    \n",
    "    Returns a dictionary of sequences: The dictionary key\n",
    "    will be the folder name and the values\n",
    "    are tuples containing the full header and the sequence\"\"\"\n",
    "    if not (in_file):\n",
    "        return {}\n",
    "    with open(in_file) as f:\n",
    "        # reads the file in a list\n",
    "        lines = f.read().splitlines()\n",
    "    seq = ''     # stores the sequence without linebreaks\n",
    "    seq_dict={}  # stores the dictionary to be returned\n",
    "    for i in lines:\n",
    "        if i and i[0] == '>':\n",
    "            # Header found\n",
    "            if seq:   # if seq is empty, this might be the first line of the file\n",
    "                # get the first section of the header, hopefully the ID\n",
    "                outfile=head[1:].split('|')[1]+'('+ str(len(seq))+')'\n",
    "                cnt=1\n",
    "                # check if there are sequences with same ID/length\n",
    "                while outfile in seq_dict:\n",
    "                    outfile=i[1:].split('|')[1]+'('+ str(len(seq))+')-'+str(cnt)\n",
    "                    cnt+=1\n",
    "                seq_dict[outfile]=(head, seq)\n",
    "                seq=''\n",
    "            head=i\n",
    "        else: # not a header - append to sequnce\n",
    "            seq+=i\n",
    "    if seq: \n",
    "        # after finishing reading the file, check if there is a sequence in the \n",
    "        # variable and add it to the dictionary accordingly.\n",
    "        outfile=head[1:].split('|')[1]+'('+ str(len(seq))+')'\n",
    "        cnt=1\n",
    "        while outfile in seq_dict:\n",
    "            outfile=i[1:].split('|')[1]+'('+ str(len(seq))+')-'+str(cnt)\n",
    "            cnt+=1\n",
    "        seq_dict[outfile]=(head, seq)\n",
    "    return seq_dict''';\n",
    "   \n",
    "'''\n",
    "def organize_sequences(seq_dict):\n",
    "    \"\"\"Creates separated fasta files organized in folders from a single fasta file with multiple sequences.\n",
    "    \n",
    "    Keyword arguments:\n",
    "    in_file -- Original fasta file.\"\"\"\n",
    "    for k, (h, s) in seq_dict.items():\n",
    "        os.makedirs(k, exist_ok=True)\n",
    "        with open(k+'/'+k+'.fasta', 'w') as f:\n",
    "            f.write(h+'\\n')\n",
    "            lines=break_fasta_sequence(s)\n",
    "            f.write('\\n'.join(lines))\n",
    "            ''';"
   ]
  },
  {
   "cell_type": "code",
   "execution_count": 10,
   "metadata": {},
   "outputs": [
    {
     "data": {
      "text/plain": [
       "{}"
      ]
     },
     "execution_count": 10,
     "metadata": {},
     "output_type": "execute_result"
    }
   ],
   "source": []
  },
  {
   "cell_type": "code",
   "execution_count": null,
   "metadata": {},
   "outputs": [],
   "source": []
  }
 ],
 "metadata": {
  "kernelspec": {
   "display_name": "Python 3",
   "language": "python",
   "name": "python3"
  },
  "language_info": {
   "codemirror_mode": {
    "name": "ipython",
    "version": 3
   },
   "file_extension": ".py",
   "mimetype": "text/x-python",
   "name": "python",
   "nbconvert_exporter": "python",
   "pygments_lexer": "ipython3",
   "version": "3.7.1"
  }
 },
 "nbformat": 4,
 "nbformat_minor": 2
}
