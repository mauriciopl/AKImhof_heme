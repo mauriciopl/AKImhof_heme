{
 "cells": [
  {
   "cell_type": "code",
   "execution_count": 5,
   "metadata": {},
   "outputs": [
    {
     "ename": "TypeError",
     "evalue": "fasta_to_seq() missing 1 required positional argument: 'in_file'",
     "output_type": "error",
     "traceback": [
      "\u001b[0;31m---------------------------------------------------------------------------\u001b[0m",
      "\u001b[0;31mTypeError\u001b[0m                                 Traceback (most recent call last)",
      "\u001b[0;32m<ipython-input-5-a6b4349a1774>\u001b[0m in \u001b[0;36m<module>\u001b[0;34m()\u001b[0m\n\u001b[1;32m     10\u001b[0m             \u001b[0mfastafile\u001b[0m \u001b[0;34m=\u001b[0m \u001b[0mparams\u001b[0m\u001b[0;34m[\u001b[0m\u001b[0;36m7\u001b[0m\u001b[0;34m:\u001b[0m\u001b[0;34m]\u001b[0m\u001b[0;34m\u001b[0m\u001b[0m\n\u001b[1;32m     11\u001b[0m \u001b[0;34m\u001b[0m\u001b[0m\n\u001b[0;32m---> 12\u001b[0;31m     \u001b[0mfasta\u001b[0m\u001b[0;34m.\u001b[0m\u001b[0mfasta_to_seq\u001b[0m\u001b[0;34m(\u001b[0m\u001b[0;34m)\u001b[0m\u001b[0;34m\u001b[0m\u001b[0m\n\u001b[0m\u001b[1;32m     13\u001b[0m     \u001b[0mfo\u001b[0m \u001b[0;34m=\u001b[0m \u001b[0;34m\"Saved_run/IL-1A(271)/IL-1A(271).fasta\"\u001b[0m\u001b[0;34m\u001b[0m\u001b[0m\n\u001b[1;32m     14\u001b[0m     \u001b[0mSeqDHBM\u001b[0m\u001b[0;34m.\u001b[0m\u001b[0mReadFasta\u001b[0m\u001b[0;34m(\u001b[0m\u001b[0mfo\u001b[0m\u001b[0;34m)\u001b[0m\u001b[0;34m\u001b[0m\u001b[0m\n",
      "\u001b[0;31mTypeError\u001b[0m: fasta_to_seq() missing 1 required positional argument: 'in_file'"
     ]
    }
   ],
   "source": [
    "#import experiments\n",
    "import SeqDHBM\n",
    "import fasta\n",
    "import sys\n",
    "\n",
    "if (__name__ == \"__main__\"):\n",
    "    fastafile = \"test.fasta\"\n",
    "    for params in sys.argv:\n",
    "        if params.startswith(\"-fasta=\"):\n",
    "            fastafile = params[7:]\n",
    "    \n",
    "    fasta.fasta_to_seq()\n",
    "    fo = \"Saved_run/IL-1A(271)/IL-1A(271).fasta\"\n",
    "    SeqDHBM.ReadFasta(fo)\n",
    "    #SeqDHBM.SpotCoordinationSite(SeqDHBM.ReadFasta(fo), \"structure\")\n"
   ]
  },
  {
   "cell_type": "code",
   "execution_count": null,
   "metadata": {},
   "outputs": [],
   "source": []
  }
 ],
 "metadata": {
  "kernelspec": {
   "display_name": "Python 3",
   "language": "python",
   "name": "python3"
  },
  "language_info": {
   "codemirror_mode": {
    "name": "ipython",
    "version": 3
   },
   "file_extension": ".py",
   "mimetype": "text/x-python",
   "name": "python",
   "nbconvert_exporter": "python",
   "pygments_lexer": "ipython3",
   "version": "3.6.4"
  }
 },
 "nbformat": 4,
 "nbformat_minor": 2
}
