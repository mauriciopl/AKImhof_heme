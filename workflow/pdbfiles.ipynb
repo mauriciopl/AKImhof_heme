{
 "cells": [
  {
   "cell_type": "code",
   "execution_count": 2,
   "metadata": {},
   "outputs": [],
   "source": [
    "import Bio.PDB as bpdb\n",
    "from os.path import isfile\n",
    "from os import rmdir\n",
    "from Bio.PDB.Polypeptide import three_to_one\n",
    "import logging\n",
    "logging.basicConfig(level=logging.DEBUG, format='%(levelname)s - %(message)s')\n"
   ]
  },
  {
   "cell_type": "code",
   "execution_count": 2,
   "metadata": {},
   "outputs": [],
   "source": [
    "# TODO: Create a list of warnings/errors for the user\n",
    "\n",
    "def get_pdb_files(id_list):\n",
    "    \"\"\" Returns a dictionary containing {result[id]: 'filename'}.\n",
    "    \"\"\"\n",
    "    file_list = dict()\n",
    "    for pid in id_list:\n",
    "        pdbl = bpdb.PDBList()\n",
    "        filename = pdbl.retrieve_pdb_file(pid, pdir=pid, file_format=\"pdb\")\n",
    "        if isfile(filename):\n",
    "            file_list[pid] = filename\n",
    "        else:\n",
    "            logging.warning(\"No structure found in PDB for the ID '\"+ pid+ \"'\")\n",
    "            try:\n",
    "                rmdir(pid)\n",
    "            except:\n",
    "                logging.error(\"Couldn't delete directory for \"+ str(pid))\n",
    "    return file_list\n",
    "\n",
    "def text_to_list(userinput):\n",
    "    \"\"\"Takes the input from the user as a free text containing protein IDs separated\n",
    "    by commas or semi-colons.\n",
    "        \n",
    "    Keyword arguments:\n",
    "    userinput -- Text provided by the user.\n",
    "    \n",
    "    Returns:\n",
    "    A list of protein IDs\"\"\"\n",
    "    result = \"\".join(userinput.split(\" \")) # remove spaces\n",
    "    result = \",\".join(result.split(\";\")) # converts ';' in ','\n",
    "    # if there are other symbols to consider, follow the pattern of the commands above\n",
    "    return result.split(\",\") \n",
    "\n",
    "if False:\n",
    "    t = text_to_list(\"1S0L\")\n",
    "    get_pdb_files(t)"
   ]
  },
  {
   "cell_type": "code",
   "execution_count": 3,
   "metadata": {},
   "outputs": [],
   "source": [
    "# I COULDNT FIGURE OUT HOW TO WORK WITH mmCIF FILES.\n",
    "# MORE RESEARCH NEEDS TO BE DONE IN ORDER TO OBTAIN THE PRIMARY SEQ FROM THOSE FILES.\n",
    "\n",
    "def cif_to_fasta(filename):\n",
    "    \"\"\"Parses a cif(pdb) file to recover the primary sequence.\n",
    "    \n",
    "    Expects to find the tag '_entity_poly.pdbx_seq_one_letter_code'\\\n",
    "    in the file followed by the sequence (delimited by ';') to mark this field.\"\"\"\n",
    "    with open(filename) as f: \n",
    "        lines = \"\".join(f.read().splitlines())\n",
    "    pos = lines.find(\"_entity_poly.pdbx_seq_one_letter_code\")\n",
    "    if pos==-1:\n",
    "        logging.warning(\"File \"+ filename+ \" does not contain information about the primary sequence. \\nSkipping.\") # TODO: error list\n",
    "        return \"\"\n",
    "    else:\n",
    "        seq = lines[pos+45:]\n",
    "        return seq[:seq.find(\";\")]\n"
   ]
  },
  {
   "cell_type": "code",
   "execution_count": 8,
   "metadata": {},
   "outputs": [],
   "source": [
    "\n",
    "from Bio.PDB.Polypeptide import three_to_one\n",
    "\n",
    "def pdb_to_fasta(filename):\n",
    "    \"\"\"Parses a pdb file to recover the primary sequence.\n",
    "    \n",
    "    Expects to find the tag 'SEQRES' in the file to mark this field.\"\"\"\n",
    "    with open(filename) as f: \n",
    "        lines = f.readlines()\n",
    "    lines = [x[19:] for x in lines if x[:6]==\"SEQRES\"]\n",
    "    #print(lines)\n",
    "    if lines:\n",
    "        lines = [\" \".join(x.split()) for x in lines] # remove extra whitespaces\n",
    "        seq = [x.split() for x in lines] # divide in 3 letter strings\n",
    "        result = \"\"\n",
    "        try:\n",
    "            for l in seq:\n",
    "                result += \"\".join([three_to_one(x) for x in l])\n",
    "        except KeyError as e:\n",
    "            logging.warning(\"File \"+ filename+ \" contains nonstandard amino acids. \\nSkipping.\") # TODO: error list\n",
    "            return \"\"\n",
    "        return (result)\n",
    "    else:\n",
    "        logging.warning(\"File \"+ filename+ \" does not contain information about the primary sequence. \\nSkipping.\") # TODO: error list\n",
    "\n",
    "def structure_to_fasta(filename):\n",
    "    if filename[-3:].upper() in [\"PDB\", \"ENT\"]:\n",
    "        seq = pdb_to_fasta(filename)\n",
    "    elif filename[-3:].upper() == \"CIF\":\n",
    "        logging.warning(\"Warning: Not ready to handle this type of files on SeqD-HBM\") \n",
    "        logging.warning(filename)\n",
    "        # TODO: MORE RESEARCH NEEDS TO BE DONE IN ORDER TO OBTAIN THE PRIMARY SEQ FROM THOSE FILES.\n",
    "        #seq = cif_to_fasta(filename)\n",
    "        seq = \"\"\n",
    "    else:\n",
    "        raise Exception(\"Error: unexpected file type\")\n",
    "    \"\"\" # uncomment if we ever need the fasta file for something in the future.\n",
    "    if seq:\n",
    "        fastafile = filename[:-3]+\"fasta\"\n",
    "        with open(fastafile, \"w\") as f:\n",
    "            f.write(\">conv|\"+fastafile+\"\\n\") #TODO: proper header\n",
    "            f.write(seq+\"\\n\")\"\"\"\n",
    "    return seq\n"
   ]
  },
  {
   "cell_type": "code",
   "execution_count": 9,
   "metadata": {},
   "outputs": [
    {
     "name": "stdout",
     "output_type": "stream",
     "text": [
      "##################################################\n",
      "Warning: Not ready to handle this type of files on SeqD-HBM\n",
      "1S0L/1s0l.cif\n",
      "##################################################\n",
      "Warning: Not ready to handle this type of files on SeqD-HBM\n",
      "1I1B/1i1b.cif\n",
      "##################################################\n",
      "Warning: Not ready to handle this type of files on SeqD-HBM\n",
      "1HIB/1hib.cif\n",
      "##################################################\n",
      "Warning: File 1I8H/pdb1i8h.ent contains nonstandard amino acids. Skipping.\n"
     ]
    }
   ],
   "source": [
    "if __name__ == \"__main__\":\n",
    "    test = [\"1S0L/1s0l.cif\", \"1I1B/1i1b.cif\", \"1HIB/1hib.cif\", \"1I8H/pdb1i8h.ent\"]\n",
    "    for i in test:\n",
    "        print(\"#\"*50)\n",
    "        structure_to_fasta(i)"
   ]
  },
  {
   "cell_type": "code",
   "execution_count": 1,
   "metadata": {},
   "outputs": [
    {
     "data": {
      "text/plain": [
       "['a']"
      ]
     },
     "execution_count": 1,
     "metadata": {},
     "output_type": "execute_result"
    }
   ],
   "source": [
    "\"a\".split()"
   ]
  },
  {
   "cell_type": "code",
   "execution_count": null,
   "metadata": {},
   "outputs": [],
   "source": []
  }
 ],
 "metadata": {
  "kernelspec": {
   "display_name": "Python 3",
   "language": "python",
   "name": "python3"
  },
  "language_info": {
   "codemirror_mode": {
    "name": "ipython",
    "version": 3
   },
   "file_extension": ".py",
   "mimetype": "text/x-python",
   "name": "python",
   "nbconvert_exporter": "python",
   "pygments_lexer": "ipython3",
   "version": "3.6.4"
  }
 },
 "nbformat": 4,
 "nbformat_minor": 2
}
