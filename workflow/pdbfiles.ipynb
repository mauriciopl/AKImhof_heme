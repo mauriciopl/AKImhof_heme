{
 "cells": [
  {
   "cell_type": "code",
   "execution_count": 2,
   "metadata": {},
   "outputs": [
    {
     "name": "stderr",
     "output_type": "stream",
     "text": [
      "WARNING: The default download format has changed from PDB to PDBx/mmCif\n"
     ]
    },
    {
     "name": "stdout",
     "output_type": "stream",
     "text": [
      "Downloading PDB structure 'PIM1'...\n",
      "Desired structure doesn't exists\n",
      "Warning: No structure found in PDB for the ID 'PIM1'\n"
     ]
    },
    {
     "data": {
      "text/plain": [
       "{}"
      ]
     },
     "execution_count": 2,
     "metadata": {},
     "output_type": "execute_result"
    }
   ],
   "source": [
    "import Bio.PDB as bpdb\n",
    "from os.path import isfile\n",
    "\n",
    "# TODO: Create a list of warnings/errors for the user\n",
    "def get_pdb_files(id_list):\n",
    "    file_list = dict()\n",
    "    for pid in id_list:\n",
    "        pdbl = bpdb.PDBList()\n",
    "        filename = pdbl.retrieve_pdb_file(pid, pdir=pid)\n",
    "        if isfile(filename):\n",
    "            file_list[pid] = filename\n",
    "        else:\n",
    "            print(\"Warning: No structure found in PDB for the ID '\"+ pid+ \"'\")\n",
    "    return file_list\n",
    "\n",
    "def text_to_list(userinput):\n",
    "    \"\"\"Takes the input from the user as a free text containing protein IDs separated\n",
    "    by commas or semi-colons.\n",
    "        \n",
    "    Keyword arguments:\n",
    "    userinput -- Text provided by the user.\n",
    "    \n",
    "    Returns:\n",
    "    A list of protein IDs\"\"\"\n",
    "    result = \"\".join(userinput.split(\" \")) # remove spaces\n",
    "    result = \",\".join(result.split(\";\")) # converts ';' in ','\n",
    "    # if there are other symbols to consider, follow the pattern of the commands above\n",
    "    return result.split(\",\") \n",
    "\n",
    "t = text_to_list(\"YNL247W\")\n",
    "get_pdb_files(t)"
   ]
  },
  {
   "cell_type": "code",
   "execution_count": 4,
   "metadata": {},
   "outputs": [
    {
     "data": {
      "text/plain": [
       "<module 'Bio.UniProt' from '/home/imhof_team/anaconda3/lib/python3.6/site-packages/Bio/UniProt/__init__.py'>"
      ]
     },
     "execution_count": 4,
     "metadata": {},
     "output_type": "execute_result"
    }
   ],
   "source": []
  },
  {
   "cell_type": "code",
   "execution_count": null,
   "metadata": {},
   "outputs": [],
   "source": []
  }
 ],
 "metadata": {
  "kernelspec": {
   "display_name": "Python 3",
   "language": "python",
   "name": "python3"
  },
  "language_info": {
   "codemirror_mode": {
    "name": "ipython",
    "version": 3
   },
   "file_extension": ".py",
   "mimetype": "text/x-python",
   "name": "python",
   "nbconvert_exporter": "python",
   "pygments_lexer": "ipython3",
   "version": "3.6.4"
  }
 },
 "nbformat": 4,
 "nbformat_minor": 2
}
