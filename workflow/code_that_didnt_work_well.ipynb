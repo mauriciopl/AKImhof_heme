{
 "cells": [
  {
   "cell_type": "markdown",
   "metadata": {},
   "source": [
    "# Trying to run the Dock ensembl macro step-by-step"
   ]
  },
  {
   "cell_type": "code",
   "execution_count": 1,
   "metadata": {},
   "outputs": [
    {
     "name": "stdout",
     "output_type": "stream",
     "text": [
      "1 False\n",
      "2 False\n"
     ]
    },
    {
     "data": {
      "text/plain": [
       "'There were too many steps to code'"
      ]
     },
     "execution_count": 1,
     "metadata": {},
     "output_type": "execute_result"
    }
   ],
   "source": [
    "# fisrt copy the ligand file to the folder\n",
    "# rename the ligand file to <receptorname>_ligand.pdb\n",
    "# rename the receptor file to <receptorname>_receptor.xxx\n",
    "# copy the macro template to the current directory to change the Macrotarget line freely\n",
    "# run the steps as in the macro dock_runensemble\n",
    "## run 10 times:\n",
    "## copy \n",
    "import yasara as y\n",
    "from os.path import isfile\n",
    "\n",
    "y.info.mode='txt'\n",
    "\n",
    "def yasara_docking(my_receptor,            my_method='VINA',    my_ligand='.pdb', \n",
    "                   num_runs=1,             my_clusterrmsd=5.0,  my_resultfile=\"haha_00\",  \n",
    "                   my_tmpfileid=None,      my_gridparlist=None, my_dockparlist=None, \n",
    "                   my_setuponly=None):\n",
    "    \"\"\"Fill documentation\"\"\"\n",
    "    print(\"Docking experiment:\", my_receptor)  \n",
    "    y.Clear()\n",
    "    a = y.LoadPDB(my_receptor)\n",
    "    print(\"receptor = \", a)\n",
    "    b = y.LoadPDB(my_ligand)\n",
    "    print(\"receptor = \", b)  \n",
    "    y.ForceField(\"AMBER03\")\n",
    "    y.FixObj(b[0])\n",
    "    #file:///home/imhof_team/Downloads/yasara/doc/Commands.html#HeadTarget\n",
    "    y.ExperimentDocking(method=my_method,             ligandobj=b[0], \\\n",
    "                        receptorobj=a[0],      runs=num_runs,\\\n",
    "                        clusterrmsd=my_clusterrmsd,   resultfile=my_resultfile, \\\n",
    "                        tmpfileid=my_tmpfileid,       gridparlist=my_gridparlist, \\\n",
    "                        dockparlist=my_dockparlist,   setuponly=my_setuponly)\n",
    "    y.Experiment(\"On\")\n",
    "    #y.LogAs(\"dummy.txt\")\n",
    "    y.Wait(\"ExpEnd\")\n",
    "    y.AddObj(\"all\")\n",
    "    y.SaveSce(\"mysce\")\n",
    "    y.RemoveObj(\"all\")\n",
    "    y.AddObj(\"1 2\")\n",
    "    ligsel = \"Obj \"+str(b[0])+\" Segment C001\"\n",
    "    recsel= \"Obj 1\"\n",
    "    print(\"Bfactor\", y.BFactorAtom(\"Obj Ligand \"+str(b[0])+\" Segment C001\"))\n",
    "    print(\"PropAtom\",y.PropAtom(\"Obj \"+str(b[0])+\" Segment C001\"))\n",
    "    print(\"Res List\", y.ListRes(\"Obj 1 with distance<4.0 from \"+ ligsel, format='RESNAME MOLNAME RESNUM'))\n",
    "    y.ListRes(\"Obj 1\" , format='RESNAME MOLNAME RESNUM')\n",
    "    print(\"Exp ended\")\n",
    "    return True\n",
    "\n",
    "print(\"1\", isfile(\"receptor.pdb\"))\n",
    "print(\"2\", isfile(\"ligand.pdb\"))\n",
    "# yasara_docking('receptor.pdb', my_ligand='ligand.pdb', num_runs=1)\n",
    "# y.ApplyMacro\n",
    "# file:///home/imhof_team/Downloads/yasara/doc/ApplyMacro.html#HeadTarget\n",
    "\n",
    "\"There were too many steps to code\""
   ]
  },
  {
   "cell_type": "code",
   "execution_count": 2,
   "metadata": {},
   "outputs": [
    {
     "data": {
      "text/plain": [
       "'Saved in case I want to parse the html'"
      ]
     },
     "execution_count": 2,
     "metadata": {},
     "output_type": "execute_result"
    }
   ],
   "source": [
    "\"\"\"from html.parser import HTMLParser\n",
    "\n",
    "\n",
    "class MyHTMLParser(HTMLParser):\n",
    "    def __init__(self):\n",
    "        HTMLParser.__init__(self)\n",
    "        self.reset()\n",
    "        self.open_tags = []\n",
    "    def handle_starttag(self, tag, attrs):\n",
    "        self.open_tags+= [tag]\n",
    "        #print(\"Encountered a start tag:\", tag)\n",
    "\n",
    "    def handle_endtag(self, tag):\n",
    "        a = self.open_tags.pop()\n",
    "        while a != tag:\n",
    "            print(\"invalid tag order\")\n",
    "            print(tag)\n",
    "            print(a)\n",
    "            a = self.open_tags.pop()\n",
    "        #print(\"Encountered an end tag :\", tag)\n",
    "\n",
    "    def handle_data(self, data):\n",
    "        print(\"data found inside tags\", \"->\".join(self.open_tags))\n",
    "        #print(\"Encountered some data  :\", data)\n",
    "\n",
    "parser = MyHTMLParser()\n",
    "\n",
    "with open(\"IL-1A(271)/IL-1A(271).html\") as f:\n",
    "    html = f.read()\n",
    "\n",
    "parser.feed(html)\"\"\"\n",
    "\n",
    "\"Saved in case I want to parse the html\""
   ]
  },
  {
   "cell_type": "code",
   "execution_count": null,
   "metadata": {},
   "outputs": [],
   "source": []
  }
 ],
 "metadata": {
  "kernelspec": {
   "display_name": "Python 3",
   "language": "python",
   "name": "python3"
  },
  "language_info": {
   "codemirror_mode": {
    "name": "ipython",
    "version": 3
   },
   "file_extension": ".py",
   "mimetype": "text/x-python",
   "name": "python",
   "nbconvert_exporter": "python",
   "pygments_lexer": "ipython3",
   "version": "3.6.4"
  }
 },
 "nbformat": 4,
 "nbformat_minor": 2
}
